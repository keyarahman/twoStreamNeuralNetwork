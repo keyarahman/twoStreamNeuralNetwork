{
 "cells": [
  {
   "cell_type": "code",
   "execution_count": 1,
   "metadata": {},
   "outputs": [],
   "source": [
    "# set the matplotlib backend so figures can be saved in the background\n",
    "import matplotlib\n",
    "matplotlib.use(\"Agg\")\n",
    "#import the necessary packages\n",
    "from tensorflow.keras.preprocessing.image import ImageDataGenerator\n",
    "from tensorflow.keras.layers import AveragePooling2D\n",
    "from tensorflow.keras.applications import ResNet50\n",
    "from tensorflow.keras.layers import Dropout\n",
    "from tensorflow.keras.layers import Flatten\n",
    "from tensorflow.keras.layers import Dense\n",
    "from tensorflow.keras.layers import Input\n",
    "from tensorflow.keras.models import Model\n",
    "from tensorflow.keras.optimizers import SGD\n",
    "from sklearn.preprocessing import LabelBinarizer\n",
    "from sklearn.model_selection import train_test_split\n",
    "from tensorflow.keras.layers import Dense\n",
    "from tensorflow.keras.models import Model\n",
    "from tensorflow.keras.optimizers import Adam\n",
    "from tensorflow.keras.layers import concatenate\n",
    "from keras.layers.merge import concatenate\n",
    "from keras.models import Model, Sequential\n",
    "from keras.layers import Dense, Input\n",
    "from sklearn.metrics import classification_report\n",
    "from keras.layers import Dense, LSTM\n",
    "\n",
    "from tensorflow.keras.layers import Dense\n",
    "from tensorflow.keras.models import Model\n",
    "from tensorflow.keras.optimizers import Adam\n",
    "from tensorflow.keras.layers import concatenate\n",
    "#from google.colab.patches import cv2_imshow\n",
    "#from imutils import paths\n",
    "import matplotlib.pyplot as plt\n",
    "import numpy as np\n",
    "import argparse\n",
    "import pickle\n",
    "import cv2 as cv \n",
    "import os\n",
    "import json\n",
    "import pickle\n",
    "import tensorflow as tf\n",
    "from tensorflow import keras"
   ]
  },
  {
   "cell_type": "code",
   "execution_count": 2,
   "metadata": {},
   "outputs": [
    {
     "name": "stdout",
     "output_type": "stream",
     "text": [
      "joints_array= (11082, 72, 25, 3)\n",
      "labels= (11082, 100)\n",
      "featchers_array (11082, 7, 72)\n"
     ]
    }
   ],
   "source": [
    "### JOINTS FEATCHERS CODE #####\n",
    "\n",
    "\n",
    "path='F:/'\n",
    "import numpy as np\n",
    "file1=open(path+\"jointsFile\",\"rb\")\n",
    "file2 = open(path+\"levelFile\", \"rb\")\n",
    "with open(path+'featcherFile', 'rb') as file3:\n",
    "    featchers_array=pickle.load(file3)\n",
    "    \n",
    "joints_array= np.load(file1)\n",
    "labels= np.load(file2)\n",
    "\n",
    "print(\"joints_array=\",joints_array.shape)\n",
    "print(\"labels=\",labels.shape)\n",
    "print(\"featchers_array\",featchers_array.shape)\n"
   ]
  },
  {
   "cell_type": "code",
   "execution_count": 3,
   "metadata": {},
   "outputs": [
    {
     "name": "stdout",
     "output_type": "stream",
     "text": [
      "(8311, 7, 72)\n"
     ]
    }
   ],
   "source": [
    "(trainFeatcherX, testFeatcherX, trainFeLabelY, testFeLabelY) = train_test_split(featchers_array,labels,\n",
    "\ttest_size=0.25 , random_state=42)\n",
    "print(trainFeatcherX.shape)"
   ]
  },
  {
   "cell_type": "code",
   "execution_count": 4,
   "metadata": {},
   "outputs": [],
   "source": [
    "# define our LSTM network\n",
    "model1 = keras.Sequential()\n",
    "model1.add(keras.Input(shape=(7,72)))\n",
    "model1.add(LSTM(32))\n",
    "model1.add(Dense(8, activation=\"relu\"))\n",
    "model1.add(Dense(4, activation=\"relu\"))\n",
    "model1.add(Dense(1, activation=\"linear\"))\n",
    "\n",
    "\n",
    "   \n"
   ]
  },
  {
   "cell_type": "code",
   "execution_count": 6,
   "metadata": {},
   "outputs": [
    {
     "name": "stdout",
     "output_type": "stream",
     "text": [
      "optical_images= (13197, 240, 320, 3)\n",
      "Optical_image_lables= (13197, 100)\n"
     ]
    }
   ],
   "source": [
    "#### OPTICAL FLOW CODE#####\n",
    "with open(path+'Labeling.data', 'rb') as l:\n",
    "    Optical_image_lables=pickle.load(l)\n",
    "    \n",
    "with open(path+'ALL_OPTICAL_IMAGE.data', 'rb') as f:\n",
    "    optical_images=pickle.load( f)\n",
    "\n",
    "\n",
    "### ONE HOT ENCODING ####\n",
    "Optical_image_lables = np.asarray(Optical_image_lables)\n",
    "lb = LabelBinarizer()\n",
    "Optical_image_lables = lb.fit_transform(Optical_image_lables)\n",
    "\n",
    "print(\"optical_images=\",optical_images.shape)\n",
    "print(\"Optical_image_lables=\",Optical_image_lables.shape)\n"
   ]
  },
  {
   "cell_type": "code",
   "execution_count": 7,
   "metadata": {},
   "outputs": [
    {
     "name": "stdout",
     "output_type": "stream",
     "text": [
      "(9897, 240, 320, 3)\n"
     ]
    }
   ],
   "source": [
    "(trainImageX, testImageX, trainImageLabelY, tesImageLabeltY) = train_test_split(optical_images, Optical_image_lables,\n",
    "\ttest_size=0.25, stratify=Optical_image_lables, random_state=42)\n",
    "\n",
    "print(trainImageX.shape)"
   ]
  },
  {
   "cell_type": "code",
   "execution_count": 12,
   "metadata": {},
   "outputs": [
    {
     "name": "stdout",
     "output_type": "stream",
     "text": [
      "(8311, 240, 320, 3)\n"
     ]
    }
   ],
   "source": [
    "trainImageX=trainImageX[:8311]\n",
    "trainImageLabelY=trainImageLabelY[:8311]\n",
    "print(trainImageX.shape)"
   ]
  },
  {
   "cell_type": "code",
   "execution_count": 13,
   "metadata": {},
   "outputs": [],
   "source": [
    "# define our CNN network\n",
    "model2_in=Input(shape=(240, 320, 3))\n",
    "\n",
    "baseModel = ResNet50(weights=\"imagenet\", include_top=False,\n",
    "     input_tensor=model2_in)\n",
    "# construct the head of the model that will be placed on top of the\n",
    "# the base model\n",
    "model2_out = baseModel.output\n",
    "model2_out = AveragePooling2D(pool_size=(7, 7))(model2_out)\n",
    "model2_out = Flatten(name=\"flatten\")(model2_out)\n",
    "model2_out = Dense(512, activation=\"relu\")(model2_out)\n",
    "model2_out = Dropout(0.5)(model2_out)\n",
    "model2_out=Dense(1, activation=\"linear\")(model2_out)\n",
    "\n",
    "\n",
    "model2 = Model(inputs=model2_in, outputs=model2_out)\n",
    "\n",
    "  "
   ]
  },
  {
   "cell_type": "code",
   "execution_count": 14,
   "metadata": {},
   "outputs": [],
   "source": [
    "#### COMBINED TWO MODELS ###\n",
    "combined = concatenate([model1.output, model2.output])\n",
    "z = Dense(2, activation=\"relu\")(combined)\n",
    "z = Dense(1, activation=\"linear\")(z)\n",
    "model = Model(inputs=[model1.input, model2.input], outputs=z)"
   ]
  },
  {
   "cell_type": "code",
   "execution_count": null,
   "metadata": {},
   "outputs": [
    {
     "name": "stdout",
     "output_type": "stream",
     "text": [
      "[INFO] training model...\n",
      "Epoch 1/10\n",
      " 755/1039 [====================>.........] - ETA: 25:41 - loss: 132041.9029"
     ]
    }
   ],
   "source": [
    "opt = Adam(lr=1e-3, decay=1e-3 / 200)\n",
    "model.compile(loss=\"mean_absolute_percentage_error\", optimizer=opt)\n",
    "# train the model\n",
    "print(\"[INFO] training model...\")\n",
    "model.fit(\n",
    "    [trainFeatcherX, trainImageX],trainImageLabelY,\n",
    "    #validation_data=([testAttrX, testImagesX], testY),\n",
    "    epochs=10, batch_size=8)\n",
    "# make predictions on the testing data\n",
    "print(\"[INFO] predicting house prices...\")\n",
    "#preds = model.predict([testAttrX, testImagesX])"
   ]
  },
  {
   "cell_type": "code",
   "execution_count": 72,
   "metadata": {},
   "outputs": [],
   "source": [
    "\n"
   ]
  },
  {
   "cell_type": "code",
   "execution_count": null,
   "metadata": {},
   "outputs": [],
   "source": []
  }
 ],
 "metadata": {
  "kernelspec": {
   "display_name": "Python 3",
   "language": "python",
   "name": "python3"
  },
  "language_info": {
   "codemirror_mode": {
    "name": "ipython",
    "version": 3
   },
   "file_extension": ".py",
   "mimetype": "text/x-python",
   "name": "python",
   "nbconvert_exporter": "python",
   "pygments_lexer": "ipython3",
   "version": "3.8.5"
  }
 },
 "nbformat": 4,
 "nbformat_minor": 4
}
