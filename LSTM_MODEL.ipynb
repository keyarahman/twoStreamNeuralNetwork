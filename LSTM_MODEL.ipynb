{
 "cells": [
  {
   "cell_type": "code",
   "execution_count": 1,
   "metadata": {},
   "outputs": [
    {
     "name": "stdout",
     "output_type": "stream",
     "text": [
      "(11082, 72, 25, 3)\n",
      "(11082, 100)\n"
     ]
    }
   ],
   "source": [
    "path='F:/'\n",
    "import numpy as np\n",
    "file1=open(path+\"jointsFile\",\"rb\")\n",
    "file2 = open(path+\"levelFile\", \"rb\")\n",
    "joints_array= np.load(file1)\n",
    "labels= np.load(file2)\n",
    "print(joints_array.shape)\n",
    "print(labels.shape)\n"
   ]
  },
  {
   "cell_type": "code",
   "execution_count": 2,
   "metadata": {},
   "outputs": [
    {
     "name": "stderr",
     "output_type": "stream",
     "text": [
      "<ipython-input-2-194ee4de89f6>:20: RuntimeWarning: invalid value encountered in float_scalars\n",
      "  cosine_angle = np.dot(a, b) / (np.linalg.norm(a) * np.linalg.norm(b))\n"
     ]
    },
    {
     "name": "stdout",
     "output_type": "stream",
     "text": [
      "(11082, 7, 72)\n"
     ]
    }
   ],
   "source": [
    "#Angel between Right shoulder(2) , Right Elbow(3) , Right Wrist(4)\n",
    "#Angel between Left shoulder(5) , Left Elbow(6) , Left Wrist(7)\n",
    "\n",
    "#Angel between Right Hip(9) , Right knee(10) , Right ankle(11)\n",
    "#Angel between Left Hip(12) , Left knee(13) , Left ankle(14)\n",
    "#Angel between Mid Hip(8) , Right knee10 , Right ankle(11)\n",
    "\n",
    "#Distance between Left Ankle(14) And Right Ankle(11)\n",
    "#Distance between Left Wrist(7) And Right Wrist(4)\n",
    "import numpy as np\n",
    "import math\n",
    "\n",
    "\n",
    "def cal_angel(joints_1,joints_2,joints_3):\n",
    "          #print(joints_1,joints_2)\n",
    "\n",
    "          a = joints_1 - joints_2\n",
    "          b = joints_2 - joints_3\n",
    "\n",
    "          cosine_angle = np.dot(a, b) / (np.linalg.norm(a) * np.linalg.norm(b))\n",
    "          angle = np.arccos(cosine_angle)\n",
    "          np.degrees(angle)\n",
    "          #print(angle)\n",
    "          return angle\n",
    "\n",
    "def cal_dis(joints_1,joints_2):\n",
    "\n",
    "          distance=math.sqrt( ((joints_2[0]-joints_1[0])**2)+((joints_2[1]-joints_1[1])**2)+((joints_2[2]-joints_1[2])**2) )\n",
    "          #print(distance)\n",
    "          return distance\n",
    "\n",
    "\n",
    "\n",
    "length=joints_array.shape[0]\n",
    "\n",
    "cols=72\n",
    "row=7 \n",
    "new_fe = [[[0] * cols] * row]*length\n",
    "for j in range(length):\n",
    " \n",
    "    #print(arr[0][2])\n",
    "    for i in range(cols): \n",
    "        \n",
    "        new_fe[j][0][i]= cal_angel(joints_array[j][i][2],joints_array[j][i][3],joints_array[j][i][4])\n",
    "    for i in range(cols): \n",
    "        new_fe[j][1][i]= cal_angel(joints_array[j][i][5],joints_array[j][i][6],joints_array[j][i][7])\n",
    "    for i in range(cols): \n",
    "        new_fe[j][2][i]= cal_angel(joints_array[j][i][9],joints_array[j][i][10],joints_array[j][i][11])\n",
    "    for i in range(cols): \n",
    "        new_fe[j][3][i]= cal_angel(joints_array[j][i][12],joints_array[j][i][13],joints_array[j][i][14])\n",
    "    for i in range(cols): \n",
    "        new_fe[j][4][i]= cal_angel(joints_array[j][i][8],joints_array[j][i][10],joints_array[j][i][11])\n",
    "    for i in range(cols): \n",
    "        new_fe[j][5][i]= cal_dis(joints_array[j][i][14],joints_array[j][i][11])\n",
    "    for i in range(cols): \n",
    "        new_fe[j][6][i]= cal_dis(joints_array[j][i][7],joints_array[j][i][4])\n",
    "new_fe = np.asarray(new_fe)\n",
    "print(new_fe.shape) \n",
    "\n"
   ]
  },
  {
   "cell_type": "code",
   "execution_count": 16,
   "metadata": {},
   "outputs": [],
   "source": [
    "  with open('F:/'+ 'featcherFile', 'wb') as f:\n",
    "        pickle.dump(new_fe, f)"
   ]
  },
  {
   "cell_type": "code",
   "execution_count": 3,
   "metadata": {},
   "outputs": [],
   "source": [
    "#Import the libraries\n",
    "import math\n",
    "import numpy as np\n",
    "import pandas as pd\n",
    "from sklearn.preprocessing import MinMaxScaler\n",
    "from keras.models import Sequential\n",
    "from keras.layers import Dense, LSTM\n",
    "import matplotlib.pyplot as plt\n",
    "plt.style.use('fivethirtyeight')\n",
    "from sklearn.model_selection import train_test_split\n",
    "import numpy as np\n",
    "import tensorflow as tf\n",
    "from tensorflow import keras\n",
    "from tensorflow.keras import layers"
   ]
  },
  {
   "cell_type": "code",
   "execution_count": 4,
   "metadata": {},
   "outputs": [
    {
     "name": "stdout",
     "output_type": "stream",
     "text": [
      "(8311, 100)\n"
     ]
    }
   ],
   "source": [
    "(trainX, testX, trainY, testY) = train_test_split(new_fe,labels,\n",
    "\ttest_size=0.25 , random_state=42)\n",
    "print(trainY.shape)"
   ]
  },
  {
   "cell_type": "code",
   "execution_count": 5,
   "metadata": {},
   "outputs": [],
   "source": [
    "trainX = tf.keras.utils.normalize(trainX, axis=1)  # scales data between 0 and 1\n",
    "testX = tf.keras.utils.normalize(testX, axis=1)"
   ]
  },
  {
   "cell_type": "code",
   "execution_count": 12,
   "metadata": {},
   "outputs": [],
   "source": [
    "model1 = keras.Sequential()\n",
    "model1.add(keras.Input(shape=(7,72)))\n",
    "model1.add(LSTM(32))\n",
    "model1.add(Dense(8, activation=\"relu\"))\n",
    "model1.add(Dense(4, activation=\"relu\"))\n",
    "model1.add(Dense(1))"
   ]
  },
  {
   "cell_type": "code",
   "execution_count": 9,
   "metadata": {},
   "outputs": [],
   "source": []
  },
  {
   "cell_type": "code",
   "execution_count": 13,
   "metadata": {},
   "outputs": [
    {
     "name": "stdout",
     "output_type": "stream",
     "text": [
      "Epoch 1/10\n",
      "208/208 [==============================] - 4s 7ms/step - loss: 0.0117 - accuracy: 0.9900 - val_loss: 0.0099 - val_accuracy: 0.9900\n",
      "Epoch 2/10\n",
      "208/208 [==============================] - 1s 4ms/step - loss: 0.0099 - accuracy: 0.9900 - val_loss: 0.0099 - val_accuracy: 0.9900\n",
      "Epoch 3/10\n",
      "208/208 [==============================] - 1s 4ms/step - loss: 0.0099 - accuracy: 0.9900 - val_loss: 0.0099 - val_accuracy: 0.9900\n",
      "Epoch 4/10\n",
      "208/208 [==============================] - 1s 4ms/step - loss: 0.0099 - accuracy: 0.9900 - val_loss: 0.0099 - val_accuracy: 0.9900\n",
      "Epoch 5/10\n",
      "208/208 [==============================] - 1s 4ms/step - loss: 0.0099 - accuracy: 0.9900 - val_loss: 0.0099 - val_accuracy: 0.9900\n",
      "Epoch 6/10\n",
      "208/208 [==============================] - 1s 4ms/step - loss: 0.0099 - accuracy: 0.9900 - val_loss: 0.0099 - val_accuracy: 0.9900\n",
      "Epoch 7/10\n",
      "208/208 [==============================] - 1s 4ms/step - loss: 0.0099 - accuracy: 0.9900 - val_loss: 0.0099 - val_accuracy: 0.9900\n",
      "Epoch 8/10\n",
      "208/208 [==============================] - 1s 5ms/step - loss: 0.0099 - accuracy: 0.9900 - val_loss: 0.0099 - val_accuracy: 0.9900\n",
      "Epoch 9/10\n",
      "208/208 [==============================] - 1s 4ms/step - loss: 0.0099 - accuracy: 0.9900 - val_loss: 0.0099 - val_accuracy: 0.9900\n",
      "Epoch 10/10\n",
      "208/208 [==============================] - 1s 4ms/step - loss: 0.0099 - accuracy: 0.9900 - val_loss: 0.0099 - val_accuracy: 0.9900\n",
      "87/87 - 0s - loss: 0.0099 - accuracy: 0.9900\n",
      "Test loss: 0.009900016710162163\n",
      "Test accuracy: 0.9900000095367432\n"
     ]
    }
   ],
   "source": [
    "\n",
    "model1.compile(loss='mean_squared_error', optimizer='adam' ,metrics=[\"accuracy\"])\n",
    "\n",
    "\n",
    "\n",
    "history = model1.fit(trainX, trainY, epochs=10, validation_split=0.2)\n",
    "\n",
    "test_scores = model1.evaluate(testX, testY, verbose=2)\n",
    "print(\"Test loss:\", test_scores[0])\n",
    "print(\"Test accuracy:\", test_scores[1])"
   ]
  },
  {
   "cell_type": "code",
   "execution_count": 11,
   "metadata": {},
   "outputs": [
    {
     "name": "stdout",
     "output_type": "stream",
     "text": [
      "Model: \"model\"\n",
      "_________________________________________________________________\n",
      "Layer (type)                 Output Shape              Param #   \n",
      "=================================================================\n",
      "input_1 (InputLayer)         [(None, 7, 72)]           0         \n",
      "_________________________________________________________________\n",
      "lstm (LSTM)                  (None, 32)                13440     \n",
      "_________________________________________________________________\n",
      "dense (Dense)                (None, 1)                 33        \n",
      "=================================================================\n",
      "Total params: 13,473\n",
      "Trainable params: 13,473\n",
      "Non-trainable params: 0\n",
      "_________________________________________________________________\n"
     ]
    }
   ],
   "source": [
    "myModel.summary()"
   ]
  },
  {
   "cell_type": "code",
   "execution_count": 12,
   "metadata": {},
   "outputs": [
    {
     "name": "stderr",
     "output_type": "stream",
     "text": [
      "WARNING:absl:Found untraced functions such as lstm_cell_layer_call_fn, lstm_cell_layer_call_and_return_conditional_losses, lstm_cell_layer_call_fn, lstm_cell_layer_call_and_return_conditional_losses, lstm_cell_layer_call_and_return_conditional_losses while saving (showing 5 of 5). These functions will not be directly callable after loading.\n",
      "WARNING:absl:Found untraced functions such as lstm_cell_layer_call_fn, lstm_cell_layer_call_and_return_conditional_losses, lstm_cell_layer_call_fn, lstm_cell_layer_call_and_return_conditional_losses, lstm_cell_layer_call_and_return_conditional_losses while saving (showing 5 of 5). These functions will not be directly callable after loading.\n"
     ]
    },
    {
     "name": "stdout",
     "output_type": "stream",
     "text": [
      "INFO:tensorflow:Assets written to: F:/Lstm_model/assets\n"
     ]
    },
    {
     "name": "stderr",
     "output_type": "stream",
     "text": [
      "INFO:tensorflow:Assets written to: F:/Lstm_model/assets\n"
     ]
    }
   ],
   "source": [
    "\n",
    "myModel.save('F:/Lstm_model/')"
   ]
  },
  {
   "cell_type": "code",
   "execution_count": 13,
   "metadata": {},
   "outputs": [
    {
     "name": "stdout",
     "output_type": "stream",
     "text": [
      "Model: \"model\"\n",
      "_________________________________________________________________\n",
      "Layer (type)                 Output Shape              Param #   \n",
      "=================================================================\n",
      "input_1 (InputLayer)         [(None, 7, 72)]           0         \n",
      "_________________________________________________________________\n",
      "lstm (LSTM)                  (None, 32)                13440     \n",
      "_________________________________________________________________\n",
      "dense (Dense)                (None, 1)                 33        \n",
      "=================================================================\n",
      "Total params: 13,473\n",
      "Trainable params: 13,473\n",
      "Non-trainable params: 0\n",
      "_________________________________________________________________\n"
     ]
    }
   ],
   "source": [
    "new_model = tf.keras.models.load_model('F:/Lstm_model/')\n",
    "\n",
    "# Check its architecture\n",
    "new_model.summary()"
   ]
  },
  {
   "cell_type": "code",
   "execution_count": null,
   "metadata": {},
   "outputs": [],
   "source": []
  }
 ],
 "metadata": {
  "kernelspec": {
   "display_name": "Python 3",
   "language": "python",
   "name": "python3"
  },
  "language_info": {
   "codemirror_mode": {
    "name": "ipython",
    "version": 3
   },
   "file_extension": ".py",
   "mimetype": "text/x-python",
   "name": "python",
   "nbconvert_exporter": "python",
   "pygments_lexer": "ipython3",
   "version": "3.8.5"
  }
 },
 "nbformat": 4,
 "nbformat_minor": 4
}
